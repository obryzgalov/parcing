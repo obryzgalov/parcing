{
 "cells": [
  {
   "cell_type": "code",
   "execution_count": 1,
   "id": "5c586ff2",
   "metadata": {},
   "outputs": [],
   "source": [
    "from pprint import pprint\n",
    "from lxml import html\n",
    "import requests\n",
    "import csv\n",
    "import sys"
   ]
  },
  {
   "cell_type": "code",
   "execution_count": 2,
   "id": "7f32bb5c",
   "metadata": {},
   "outputs": [],
   "source": [
    "url = 'https://lenta.ru/parts/news'"
   ]
  },
  {
   "cell_type": "code",
   "execution_count": 3,
   "id": "d8f42175",
   "metadata": {},
   "outputs": [],
   "source": [
    "headers = {\n",
    "    'User-Agent' : 'Mozilla/5.0 (Windows NT 10.0; Win64; x64) AppleWebKit/537.36 (KHTML, like Gecko)\\\n",
    "    Chrome/110.0.0.0 Safari/537.36',\n",
    "}"
   ]
  },
  {
   "cell_type": "code",
   "execution_count": 4,
   "id": "1d4b8e40",
   "metadata": {},
   "outputs": [],
   "source": [
    "response = requests.get(url, headers = headers)"
   ]
  },
  {
   "cell_type": "code",
   "execution_count": 5,
   "id": "3a346bf0",
   "metadata": {},
   "outputs": [],
   "source": [
    "dom = html.fromstring(response.text)\n",
    "news_list = dom.xpath('//div/div/main/div/div/ul/li/a[@class=\"card-full-news _parts-news\"]')"
   ]
  },
  {
   "cell_type": "code",
   "execution_count": 6,
   "id": "9bbc2751",
   "metadata": {},
   "outputs": [],
   "source": [
    "news_dict = {}"
   ]
  },
  {
   "cell_type": "code",
   "execution_count": 7,
   "id": "6379390c",
   "metadata": {},
   "outputs": [],
   "source": [
    "for new in news_list:\n",
    "    new_name = new.xpath('./h3/text()')[0]\n",
    "    new_link = url + new.xpath('./@href')[0]\n",
    "    new_date= new.xpath('./div/time/text()')[0]\n",
    "    news_dict['Lenta.ru ' + new_name] = {\n",
    "        'link' : new_link,\n",
    "        'date' : new_date\n",
    "    }"
   ]
  },
  {
   "cell_type": "code",
   "execution_count": 8,
   "id": "a6e88552",
   "metadata": {},
   "outputs": [
    {
     "data": {
      "text/plain": [
       "{'Lenta.ru Зеленский утвердил санкции в отношении 333 россиян': {'link': 'https://lenta.ru/parts/news/news/2023/02/19/ukazsnbo/',\n",
       "  'date': '21:28'},\n",
       " 'Lenta.ru Бастыкин рассказал об отрубающих головы наемникам представителях ВСУ': {'link': 'https://lenta.ru/parts/news/news/2023/02/19/golovy/',\n",
       "  'date': '21:25'},\n",
       " 'Lenta.ru Неизвестный открыл стрельбу в российском торговом центре': {'link': 'https://lenta.ru/parts/news/news/2023/02/19/rrrosstov/',\n",
       "  'date': '21:20'},\n",
       " 'Lenta.ru Жертвой обстрела села в Белгородской области оказалась 12-летняя девочка': {'link': 'https://lenta.ru/parts/news/news/2023/02/19/12/',\n",
       "  'date': '20:58'},\n",
       " 'Lenta.ru Даниил Медведев выиграл турнир ATP': {'link': 'https://lenta.ru/parts/news/news/2023/02/19/daniil/',\n",
       "  'date': '20:56'},\n",
       " 'Lenta.ru Мясников назвал основные правила жизни при остеопорозе': {'link': 'https://lenta.ru/parts/newshttps://moslenta.ru/news/city/pravila-zhizni-pri-osteoporoze-19-02-2023.htm/',\n",
       "  'date': '20:44'},\n",
       " 'Lenta.ru В США предрекли скорое обучение украинских пилотов управлению истребителями F-16': {'link': 'https://lenta.ru/parts/news/news/2023/02/19/us_ua_f16/',\n",
       "  'date': '20:43'},\n",
       " 'Lenta.ru СМИ назвали цель новых санкций США против России': {'link': 'https://lenta.ru/parts/news/news/2023/02/19/new_us_sanctions/',\n",
       "  'date': '20:26'},\n",
       " 'Lenta.ru Названы способствующие продлению молодости продукты': {'link': 'https://lenta.ru/parts/newshttps://moslenta.ru/news/lyudi/produkty-19-02-2023.htm',\n",
       "  'date': '20:22'},\n",
       " 'Lenta.ru Муж убитой ножом пенсионерки стал главным подозреваемым': {'link': 'https://lenta.ru/parts/news/news/2023/02/19/murder_82/',\n",
       "  'date': '20:19'},\n",
       " 'Lenta.ru В Словакии положительно оценили идею передать Украине нелетающие МиГ-29': {'link': 'https://lenta.ru/parts/news/news/2023/02/19/slovakia/',\n",
       "  'date': '20:16'},\n",
       " 'Lenta.ru Блогерша купила модные сапоги и осталась с ногами Патрика из «Спанч Боба»': {'link': 'https://lenta.ru/parts/news/news/2023/02/19/patrick/',\n",
       "  'date': '20:13'},\n",
       " 'Lenta.ru Требование США к Украине об усилении боев объяснили': {'link': 'https://lenta.ru/parts/news/news/2023/02/19/shvtkn/',\n",
       "  'date': '20:08'},\n",
       " 'Lenta.ru В Москве вырос средний чек продуктов для блинов': {'link': 'https://lenta.ru/parts/newshttps://moslenta.ru/news/city/srednii-chek-19-02-2023.htm/',\n",
       "  'date': '20:05'},\n",
       " 'Lenta.ru Мусоровоз насмерть задавил женщину в Москве': {'link': 'https://lenta.ru/parts/news/news/2023/02/19/musorovoz/',\n",
       "  'date': '20:04'},\n",
       " 'Lenta.ru Майк Тайсон назвал главный трюк Макгрегора': {'link': 'https://lenta.ru/parts/news/news/2023/02/19/tayson/',\n",
       "  'date': '19:57'},\n",
       " 'Lenta.ru В США назвали бесполезное для поставок Украине оружие': {'link': 'https://lenta.ru/parts/news/news/2023/02/19/blinken_weapons/',\n",
       "  'date': '19:45'},\n",
       " 'Lenta.ru В Конгрессе США заявили о прогрессе в вопросе передачи Украине истребителей': {'link': 'https://lenta.ru/parts/news/news/2023/02/19/f_16_progress/',\n",
       "  'date': '19:31'},\n",
       " 'Lenta.ru Land Rover Defender получил мотор от GM и цвет от Subaru': {'link': 'https://lenta.ru/parts/newshttps://motor.ru/news/defender-ecd-19-02-2023.htm',\n",
       "  'date': '19:27'},\n",
       " 'Lenta.ru Вдова и дочь Кена Блока проведут сезон в ралли': {'link': 'https://lenta.ru/parts/newshttps://motor.ru/news/blok-rally-19-02-2023.htm',\n",
       "  'date': '19:27'}}"
      ]
     },
     "execution_count": 8,
     "metadata": {},
     "output_type": "execute_result"
    }
   ],
   "source": [
    "news_dict"
   ]
  },
  {
   "cell_type": "code",
   "execution_count": null,
   "id": "28b5a9d8",
   "metadata": {},
   "outputs": [],
   "source": []
  }
 ],
 "metadata": {
  "kernelspec": {
   "display_name": "Python 3 (ipykernel)",
   "language": "python",
   "name": "python3"
  },
  "language_info": {
   "codemirror_mode": {
    "name": "ipython",
    "version": 3
   },
   "file_extension": ".py",
   "mimetype": "text/x-python",
   "name": "python",
   "nbconvert_exporter": "python",
   "pygments_lexer": "ipython3",
   "version": "3.9.13"
  }
 },
 "nbformat": 4,
 "nbformat_minor": 5
}
